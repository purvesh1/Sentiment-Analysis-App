{
 "cells": [
  {
   "cell_type": "code",
   "execution_count": null,
   "metadata": {},
   "outputs": [],
   "source": []
  },
  {
   "cell_type": "code",
   "execution_count": 1,
   "metadata": {},
   "outputs": [],
   "source": [
    "import pandas as pd\n",
    "import numpy as np\n",
    "import matplotlib.pyplot as plt\n",
    "import seaborn as sns\n",
    "import os"
   ]
  },
  {
   "cell_type": "code",
   "execution_count": 5,
   "metadata": {},
   "outputs": [
    {
     "data": {
      "text/html": [
       "<div>\n",
       "<style scoped>\n",
       "    .dataframe tbody tr th:only-of-type {\n",
       "        vertical-align: middle;\n",
       "    }\n",
       "\n",
       "    .dataframe tbody tr th {\n",
       "        vertical-align: top;\n",
       "    }\n",
       "\n",
       "    .dataframe thead th {\n",
       "        text-align: right;\n",
       "    }\n",
       "</style>\n",
       "<table border=\"1\" class=\"dataframe\">\n",
       "  <thead>\n",
       "    <tr style=\"text-align: right;\">\n",
       "      <th></th>\n",
       "      <th>reviews</th>\n",
       "      <th>combinations</th>\n",
       "      <th>predicted_labels</th>\n",
       "    </tr>\n",
       "  </thead>\n",
       "  <tbody>\n",
       "    <tr>\n",
       "      <th>0</th>\n",
       "      <td>Why does it look like someone spit on my food?...</td>\n",
       "      <td>(price, positive)</td>\n",
       "      <td>0</td>\n",
       "    </tr>\n",
       "    <tr>\n",
       "      <th>1</th>\n",
       "      <td>Why does it look like someone spit on my food?...</td>\n",
       "      <td>(price, neutral)</td>\n",
       "      <td>0</td>\n",
       "    </tr>\n",
       "    <tr>\n",
       "      <th>2</th>\n",
       "      <td>Why does it look like someone spit on my food?...</td>\n",
       "      <td>(price, negative)</td>\n",
       "      <td>0</td>\n",
       "    </tr>\n",
       "    <tr>\n",
       "      <th>3</th>\n",
       "      <td>Why does it look like someone spit on my food?...</td>\n",
       "      <td>(price, conflict)</td>\n",
       "      <td>0</td>\n",
       "    </tr>\n",
       "    <tr>\n",
       "      <th>4</th>\n",
       "      <td>Why does it look like someone spit on my food?...</td>\n",
       "      <td>(price, none)</td>\n",
       "      <td>1</td>\n",
       "    </tr>\n",
       "  </tbody>\n",
       "</table>\n",
       "</div>"
      ],
      "text/plain": [
       "                                             reviews       combinations  \\\n",
       "0  Why does it look like someone spit on my food?...  (price, positive)   \n",
       "1  Why does it look like someone spit on my food?...   (price, neutral)   \n",
       "2  Why does it look like someone spit on my food?...  (price, negative)   \n",
       "3  Why does it look like someone spit on my food?...  (price, conflict)   \n",
       "4  Why does it look like someone spit on my food?...      (price, none)   \n",
       "\n",
       "   predicted_labels  \n",
       "0                 0  \n",
       "1                 0  \n",
       "2                 0  \n",
       "3                 0  \n",
       "4                 1  "
      ]
     },
     "execution_count": 5,
     "metadata": {},
     "output_type": "execute_result"
    }
   ],
   "source": [
    "pre_df = pd.read_csv('C:/Users/91909/Downloads/predictions (2).csv')\n",
    "pre_df['combinations'] = pre_df['combinations'].str.split(' - ').apply(tuple)\n",
    "pre_df.head()"
   ]
  },
  {
   "cell_type": "code",
   "execution_count": 20,
   "metadata": {},
   "outputs": [
    {
     "data": {
      "text/plain": [
       "Index(['reviews', 'combinations', 'predicted_labels'], dtype='object')"
      ]
     },
     "execution_count": 20,
     "metadata": {},
     "output_type": "execute_result"
    }
   ],
   "source": [
    "pre_df.columns"
   ]
  },
  {
   "cell_type": "code",
   "execution_count": 21,
   "metadata": {},
   "outputs": [
    {
     "data": {
      "text/plain": [
       "Index(['store_name', 'category', 'store_address', 'latitude ', 'longitude',\n",
       "       'rating_count', 'review_time', 'review', 'rating'],\n",
       "      dtype='object')"
      ]
     },
     "execution_count": 21,
     "metadata": {},
     "output_type": "execute_result"
    }
   ],
   "source": [
    "mc_df = pd.read_csv('C:/Users/91909/Documents/Term 3/Machine Learning/assignment/senti/Sentiment-Analysis-App/data/McDonald_s_Reviews.csv', encoding = 'latin-1' , index_col=0)\n",
    "mc_df.columns"
   ]
  },
  {
   "cell_type": "code",
   "execution_count": 35,
   "metadata": {},
   "outputs": [
    {
     "data": {
      "text/html": [
       "<div>\n",
       "<style scoped>\n",
       "    .dataframe tbody tr th:only-of-type {\n",
       "        vertical-align: middle;\n",
       "    }\n",
       "\n",
       "    .dataframe tbody tr th {\n",
       "        vertical-align: top;\n",
       "    }\n",
       "\n",
       "    .dataframe thead th {\n",
       "        text-align: right;\n",
       "    }\n",
       "</style>\n",
       "<table border=\"1\" class=\"dataframe\">\n",
       "  <thead>\n",
       "    <tr style=\"text-align: right;\">\n",
       "      <th></th>\n",
       "      <th>reviews</th>\n",
       "      <th>combinations</th>\n",
       "      <th>predicted_labels</th>\n",
       "      <th>store_address</th>\n",
       "      <th>latitude</th>\n",
       "      <th>longitude</th>\n",
       "      <th>review_time</th>\n",
       "      <th>rating</th>\n",
       "    </tr>\n",
       "  </thead>\n",
       "  <tbody>\n",
       "    <tr>\n",
       "      <th>0</th>\n",
       "      <td>Why does it look like someone spit on my food?...</td>\n",
       "      <td>(price, positive)</td>\n",
       "      <td>0</td>\n",
       "      <td>13749 US-183 Hwy, Austin, TX 78750, United States</td>\n",
       "      <td>30.460718</td>\n",
       "      <td>-97.792874</td>\n",
       "      <td>3 months ago</td>\n",
       "      <td>1 star</td>\n",
       "    </tr>\n",
       "    <tr>\n",
       "      <th>1</th>\n",
       "      <td>Why does it look like someone spit on my food?...</td>\n",
       "      <td>(price, neutral)</td>\n",
       "      <td>0</td>\n",
       "      <td>13749 US-183 Hwy, Austin, TX 78750, United States</td>\n",
       "      <td>30.460718</td>\n",
       "      <td>-97.792874</td>\n",
       "      <td>3 months ago</td>\n",
       "      <td>1 star</td>\n",
       "    </tr>\n",
       "  </tbody>\n",
       "</table>\n",
       "</div>"
      ],
      "text/plain": [
       "                                             reviews       combinations  \\\n",
       "0  Why does it look like someone spit on my food?...  (price, positive)   \n",
       "1  Why does it look like someone spit on my food?...   (price, neutral)   \n",
       "\n",
       "   predicted_labels                                      store_address  \\\n",
       "0                 0  13749 US-183 Hwy, Austin, TX 78750, United States   \n",
       "1                 0  13749 US-183 Hwy, Austin, TX 78750, United States   \n",
       "\n",
       "   latitude   longitude   review_time  rating  \n",
       "0  30.460718 -97.792874  3 months ago  1 star  \n",
       "1  30.460718 -97.792874  3 months ago  1 star  "
      ]
     },
     "execution_count": 35,
     "metadata": {},
     "output_type": "execute_result"
    }
   ],
   "source": [
    "final_df = pre_df.merge(mc_df, left_on='reviews', right_on='review', how='left')[['reviews', 'combinations', 'predicted_labels', 'store_address', 'latitude ', 'longitude', 'review_time', 'rating']]\n",
    "final_df.head(2)"
   ]
  },
  {
   "cell_type": "code",
   "execution_count": 31,
   "metadata": {},
   "outputs": [],
   "source": [
    "import numpy as np\n",
    "\n",
    "class ReviewPredictionMatrix:\n",
    "    def __init__(self, aspects, sentiments):\n",
    "        self.aspects = aspects\n",
    "        self.sentiments = sentiments\n",
    "        # Initialize a matrix of -1s\n",
    "        self.matrix = np.full((len(aspects), len(sentiments)), 0)\n",
    "        \n",
    "    def update_entry(self, aspect, sentiment, prediction):\n",
    "        # Update the matrix based on the provided aspect, sentiment, and prediction value.\n",
    "        row_idx = self.aspects.index(aspect)\n",
    "        col_idx = self.sentiments.index(sentiment)\n",
    "        self.matrix[row_idx, col_idx] = prediction\n",
    "\n",
    "    def update_from_list(self, list_of_predictions):\n",
    "        \"\"\"\n",
    "        Updates the matrix from a list of predictions.\n",
    "        :param list_of_predictions: List of format [(tuple: ( tuple : aspect, sentiment), binary_prediction)]\n",
    "        \"\"\"\n",
    "        for (aspect, sentiment), prediction in list_of_predictions:\n",
    "            self.update_entry(aspect, sentiment, prediction)\n",
    "    \n",
    "    def get_matrix(self):\n",
    "        return self.matrix\n",
    "    \n",
    "    def visualize(self):\n",
    "        # Visualize the matrix for this review, e.g., using a heatmap.\n",
    "        pass"
   ]
  },
  {
   "cell_type": "code",
   "execution_count": 62,
   "metadata": {},
   "outputs": [],
   "source": [
    "# maintaining both orders of aspects and sentiments\n",
    "aspects = ['price', 'anecdotes', 'food', 'ambience', 'service']\n",
    "sentiments = ['positive', 'neutral', 'negative', 'conflict', 'none']\n",
    "\n",
    "def aggregate_to_matrix(series_of_tuples):\n",
    "    \n",
    "    # Create a matrix object\n",
    "    matrix_obj = ReviewPredictionMatrix(aspects, sentiments)\n",
    "    \n",
    "    # Loop over the series and update the matrix\n",
    "    for absa_tuple in series_of_tuples:\n",
    "        matrix_obj.update_entry(absa_tuple[0][0], absa_tuple[0][1], absa_tuple[1])\n",
    "    \n",
    "    return matrix_obj.get_matrix()\n",
    "\n"
   ]
  },
  {
   "cell_type": "code",
   "execution_count": 63,
   "metadata": {},
   "outputs": [
    {
     "data": {
      "text/html": [
       "<div>\n",
       "<style scoped>\n",
       "    .dataframe tbody tr th:only-of-type {\n",
       "        vertical-align: middle;\n",
       "    }\n",
       "\n",
       "    .dataframe tbody tr th {\n",
       "        vertical-align: top;\n",
       "    }\n",
       "\n",
       "    .dataframe thead th {\n",
       "        text-align: right;\n",
       "    }\n",
       "</style>\n",
       "<table border=\"1\" class=\"dataframe\">\n",
       "  <thead>\n",
       "    <tr style=\"text-align: right;\">\n",
       "      <th></th>\n",
       "      <th>reviews</th>\n",
       "      <th>store_address</th>\n",
       "      <th>latitude</th>\n",
       "      <th>longitude</th>\n",
       "      <th>review_time</th>\n",
       "      <th>rating</th>\n",
       "      <th>combo_label_pairs</th>\n",
       "    </tr>\n",
       "  </thead>\n",
       "  <tbody>\n",
       "    <tr>\n",
       "      <th>0</th>\n",
       "      <td>Why does it look like someone spit on my food?...</td>\n",
       "      <td>13749 US-183 Hwy, Austin, TX 78750, United States</td>\n",
       "      <td>30.460718</td>\n",
       "      <td>-97.792874</td>\n",
       "      <td>3 months ago</td>\n",
       "      <td>1 star</td>\n",
       "      <td>[[0, 0, 0, 0, 1], [0, 0, 0, 0, 1], [0, 0, 1, 0...</td>\n",
       "    </tr>\n",
       "    <tr>\n",
       "      <th>1</th>\n",
       "      <td>It'd McDonalds. It is what it is as far as the...</td>\n",
       "      <td>13749 US-183 Hwy, Austin, TX 78750, United States</td>\n",
       "      <td>30.460718</td>\n",
       "      <td>-97.792874</td>\n",
       "      <td>5 days ago</td>\n",
       "      <td>4 stars</td>\n",
       "      <td>[[0, 0, 0, 0, 1], [0, 0, 0, 0, 1], [1, 0, 0, 0...</td>\n",
       "    </tr>\n",
       "    <tr>\n",
       "      <th>2</th>\n",
       "      <td>Made a mobile order got to the speaker and che...</td>\n",
       "      <td>13749 US-183 Hwy, Austin, TX 78750, United States</td>\n",
       "      <td>30.460718</td>\n",
       "      <td>-97.792874</td>\n",
       "      <td>5 days ago</td>\n",
       "      <td>1 star</td>\n",
       "      <td>[[0, 0, 0, 0, 1], [0, 0, 0, 0, 1], [0, 0, 0, 0...</td>\n",
       "    </tr>\n",
       "    <tr>\n",
       "      <th>3</th>\n",
       "      <td>My mc. Crispy chicken sandwich was ï¿½ï¿½ï¿½ï¿...</td>\n",
       "      <td>13749 US-183 Hwy, Austin, TX 78750, United States</td>\n",
       "      <td>30.460718</td>\n",
       "      <td>-97.792874</td>\n",
       "      <td>a month ago</td>\n",
       "      <td>5 stars</td>\n",
       "      <td>[[0, 0, 0, 0, 1], [0, 0, 0, 0, 1], [1, 0, 0, 0...</td>\n",
       "    </tr>\n",
       "    <tr>\n",
       "      <th>4</th>\n",
       "      <td>I repeat my order 3 times in the drive thru, a...</td>\n",
       "      <td>13749 US-183 Hwy, Austin, TX 78750, United States</td>\n",
       "      <td>30.460718</td>\n",
       "      <td>-97.792874</td>\n",
       "      <td>2 months ago</td>\n",
       "      <td>1 star</td>\n",
       "      <td>[[0, 0, 0, 0, 1], [0, 0, 0, 0, 1], [0, 0, 1, 0...</td>\n",
       "    </tr>\n",
       "  </tbody>\n",
       "</table>\n",
       "</div>"
      ],
      "text/plain": [
       "                                             reviews  \\\n",
       "0  Why does it look like someone spit on my food?...   \n",
       "1  It'd McDonalds. It is what it is as far as the...   \n",
       "2  Made a mobile order got to the speaker and che...   \n",
       "3  My mc. Crispy chicken sandwich was ï¿½ï¿½ï¿½ï¿...   \n",
       "4  I repeat my order 3 times in the drive thru, a...   \n",
       "\n",
       "                                       store_address  latitude   longitude  \\\n",
       "0  13749 US-183 Hwy, Austin, TX 78750, United States  30.460718 -97.792874   \n",
       "1  13749 US-183 Hwy, Austin, TX 78750, United States  30.460718 -97.792874   \n",
       "2  13749 US-183 Hwy, Austin, TX 78750, United States  30.460718 -97.792874   \n",
       "3  13749 US-183 Hwy, Austin, TX 78750, United States  30.460718 -97.792874   \n",
       "4  13749 US-183 Hwy, Austin, TX 78750, United States  30.460718 -97.792874   \n",
       "\n",
       "    review_time   rating                                  combo_label_pairs  \n",
       "0  3 months ago   1 star  [[0, 0, 0, 0, 1], [0, 0, 0, 0, 1], [0, 0, 1, 0...  \n",
       "1    5 days ago  4 stars  [[0, 0, 0, 0, 1], [0, 0, 0, 0, 1], [1, 0, 0, 0...  \n",
       "2    5 days ago   1 star  [[0, 0, 0, 0, 1], [0, 0, 0, 0, 1], [0, 0, 0, 0...  \n",
       "3   a month ago  5 stars  [[0, 0, 0, 0, 1], [0, 0, 0, 0, 1], [1, 0, 0, 0...  \n",
       "4  2 months ago   1 star  [[0, 0, 0, 0, 1], [0, 0, 0, 0, 1], [0, 0, 1, 0...  "
      ]
     },
     "execution_count": 63,
     "metadata": {},
     "output_type": "execute_result"
    }
   ],
   "source": [
    "# Step 1: Create new column with tuple\n",
    "final_df['combo_label_pairs'] = list(zip(final_df['combinations'], final_df['predicted_labels']))\n",
    "\n",
    "# Step 2: Group by 'reviews' and aggregate the tuples\n",
    "aggregated_pairs = final_df.groupby('reviews')['combo_label_pairs'].apply(aggregate_to_matrix).reset_index()\n",
    "\n",
    "# Step 3: Merge with the original dataframe\n",
    "merged_with_aggregation = final_df.drop(columns=['combinations', 'predicted_labels', 'combo_label_pairs']).drop_duplicates()\n",
    "final_result = merged_with_aggregation.merge(aggregated_pairs, on='reviews')\n",
    "\n",
    "final_result.head()\n",
    "# The 'combo_label_pairs' column in 'final_result' dataframe will now have lists of tuple"
   ]
  },
  {
   "cell_type": "code",
   "execution_count": 71,
   "metadata": {},
   "outputs": [
    {
     "data": {
      "text/plain": [
       "0    ((price, positive), 0)\n",
       "1     ((price, neutral), 0)\n",
       "2    ((price, negative), 0)\n",
       "3    ((price, conflict), 0)\n",
       "4        ((price, none), 1)\n",
       "Name: combo_label_pairs, dtype: object"
      ]
     },
     "execution_count": 71,
     "metadata": {},
     "output_type": "execute_result"
    }
   ],
   "source": [
    "# check sentiemnt distribution for each aspect for the first review\n",
    "x = 1\n",
    "final_df['combo_label_pairs'][5*(x-1):5*x]"
   ]
  },
  {
   "cell_type": "code",
   "execution_count": 72,
   "metadata": {},
   "outputs": [
    {
     "data": {
      "text/plain": [
       "array([[0, 0, 0, 0, 1],\n",
       "       [0, 0, 0, 0, 1],\n",
       "       [0, 0, 1, 0, 0],\n",
       "       [0, 0, 0, 0, 1],\n",
       "       [0, 0, 0, 0, 0]])"
      ]
     },
     "execution_count": 72,
     "metadata": {},
     "output_type": "execute_result"
    }
   ],
   "source": [
    "# make sure each row matches:\n",
    "final_result['combo_label_pairs'][0]"
   ]
  },
  {
   "cell_type": "code",
   "execution_count": 73,
   "metadata": {},
   "outputs": [
    {
     "data": {
      "text/plain": [
       "'c:\\\\Users\\\\91909\\\\Documents\\\\Term 3\\\\Machine Learning\\\\assignment\\\\senti\\\\Sentiment-Analysis-App\\\\research'"
      ]
     },
     "execution_count": 73,
     "metadata": {},
     "output_type": "execute_result"
    }
   ],
   "source": [
    "%pwd"
   ]
  },
  {
   "cell_type": "code",
   "execution_count": null,
   "metadata": {},
   "outputs": [],
   "source": [
    "final_result.to_csv('final_result.csv', index=False)"
   ]
  },
  {
   "cell_type": "code",
   "execution_count": null,
   "metadata": {},
   "outputs": [],
   "source": [
    "def aggregate_matrices_for_location(location):\n",
    "    subset = df[df['store_address'] == location]\n",
    "    aggregate_matrix = np.sum(np.stack(subset['ABSA_matrix'].values), axis=0)\n",
    "    return aggregate_matrix\n",
    "\n",
    "def plot_location_heatmap(location):\n",
    "    aggregate_matrix = aggregate_matrices_for_location(location)\n",
    "    plt.figure(figsize=(10,6))\n",
    "    sns.heatmap(aggregate_matrix, annot=True, cmap='YlGnBu', xticklabels=sentiments, yticklabels=aspects)\n",
    "    plt.title(f\"Sentiment Distribution for Location: {location}\")\n",
    "    st.pyplot()\n",
    "\n",
    "def plot_aspect_distribution():\n",
    "    # This requires some preprocessing to get the aspect and sentiment distribution\n",
    "    aspect_counts = {aspect: [] for aspect in aspects}\n",
    "    for _, row in df.iterrows():\n",
    "        matrix = row['ABSA_matrix']\n",
    "        for i, aspect in enumerate(aspects):\n",
    "            total = np.sum(matrix[i])\n",
    "            aspect_counts[aspect].append(total)\n",
    "    \n",
    "    aspect_df = pd.DataFrame(aspect_counts, index=sentiments).T\n",
    "    aspect_df.plot(kind='bar', stacked=True, figsize=(10,6))\n",
    "    plt.title(\"Aspect-wise Sentiment Distribution\")\n",
    "    plt.ylabel(\"Number of Reviews\")\n",
    "    st.pyplot()"
   ]
  }
 ],
 "metadata": {
  "kernelspec": {
   "display_name": "senti",
   "language": "python",
   "name": "python3"
  },
  "language_info": {
   "codemirror_mode": {
    "name": "ipython",
    "version": 3
   },
   "file_extension": ".py",
   "mimetype": "text/x-python",
   "name": "python",
   "nbconvert_exporter": "python",
   "pygments_lexer": "ipython3",
   "version": "3.9.13"
  },
  "orig_nbformat": 4
 },
 "nbformat": 4,
 "nbformat_minor": 2
}
